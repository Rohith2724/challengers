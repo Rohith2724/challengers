{
  "nbformat": 4,
  "nbformat_minor": 0,
  "metadata": {
    "colab": {
      "provenance": []
    },
    "kernelspec": {
      "name": "python3",
      "display_name": "Python 3"
    },
    "language_info": {
      "name": "python"
    }
  },
  "cells": [
    {
      "cell_type": "code",
      "execution_count": null,
      "metadata": {
        "id": "RiwgEPjUR8C7",
        "colab": {
          "base_uri": "https://localhost:8080/"
        },
        "outputId": "64e0046e-ada6-49db-ff84-fea8577287a1"
      },
      "outputs": [
        {
          "output_type": "stream",
          "name": "stdout",
          "text": [
            "Sorted Array in descending order is\n",
            "[0.32, 0.33, 0.37, 0.42, 0.47, 0.51, 0.52]\n"
          ]
        }
      ],
      "source": [
        "def bucketSort(array):\n",
        "    bucket = []\n",
        "\n",
        "    # Create empty buckets\n",
        "    for i in range(len(array)):\n",
        "        bucket.append([])\n",
        "\n",
        "    # Insert elements into their respective buckets\n",
        "    for j in array:\n",
        "        index_b = int(10 * j)\n",
        "        bucket[index_b].append(j)\n",
        "\n",
        "    # Sort the elements of each bucket\n",
        "    for i in range(len(array)):\n",
        "        bucket[i] = sorted(bucket[i])\n",
        "\n",
        "    # Get the sorted elements\n",
        "    k = 0\n",
        "    for i in range(len(array)):\n",
        "        for j in range(len(bucket[i])):\n",
        "            array[k] = bucket[i][j]\n",
        "            k += 1\n",
        "    return array\n",
        "\n",
        "\n",
        "array = [.42, .32, .33, .52, .37, .47, .51]\n",
        "print(\"Sorted Array in descending order is\")\n",
        "print(bucketSort(array))"
      ]
    }
  ]
}